{
 "cells": [
  {
   "cell_type": "code",
   "execution_count": 1,
   "metadata": {},
   "outputs": [
    {
     "name": "stdout",
     "output_type": "stream",
     "text": [
      "Counts: {'000': 1000}\n"
     ]
    },
    {
     "data": {
      "text/html": [
       "<pre style=\"word-wrap: normal;white-space: pre;background: #fff0;line-height: 1.1;font-family: &quot;Courier New&quot;,Courier,monospace\">     ┌───┐      ░  ░ ┌───┐┌─┐      \n",
       "x_0: ┤ H ├──────░──░─┤ H ├┤M├──────\n",
       "     ├───┤      ░  ░ ├───┤└╥┘┌─┐   \n",
       "x_1: ┤ H ├──────░──░─┤ H ├─╫─┤M├───\n",
       "     ├───┤      ░  ░ ├───┤ ║ └╥┘┌─┐\n",
       "x_2: ┤ H ├──────░──░─┤ H ├─╫──╫─┤M├\n",
       "     ├───┤┌───┐ ░  ░ ├───┤ ║  ║ └╥┘\n",
       "  y: ┤ X ├┤ H ├─░──░─┤ H ├─╫──╫──╫─\n",
       "     └───┘└───┘ ░  ░ └───┘ ║  ║  ║ \n",
       "c: 3/══════════════════════╩══╩══╩═\n",
       "                           0  1  2 </pre>"
      ],
      "text/plain": [
       "     ┌───┐      ░  ░ ┌───┐┌─┐      \n",
       "x_0: ┤ H ├──────░──░─┤ H ├┤M├──────\n",
       "     ├───┤      ░  ░ ├───┤└╥┘┌─┐   \n",
       "x_1: ┤ H ├──────░──░─┤ H ├─╫─┤M├───\n",
       "     ├───┤      ░  ░ ├───┤ ║ └╥┘┌─┐\n",
       "x_2: ┤ H ├──────░──░─┤ H ├─╫──╫─┤M├\n",
       "     ├───┤┌───┐ ░  ░ ├───┤ ║  ║ └╥┘\n",
       "  y: ┤ X ├┤ H ├─░──░─┤ H ├─╫──╫──╫─\n",
       "     └───┘└───┘ ░  ░ └───┘ ║  ║  ║ \n",
       "c: 3/══════════════════════╩══╩══╩═\n",
       "                           0  1  2 "
      ]
     },
     "execution_count": 1,
     "metadata": {},
     "output_type": "execute_result"
    }
   ],
   "source": [
    "from qiskit import QuantumRegister,ClassicalRegister,QuantumCircuit\n",
    "from qiskit import execute\n",
    "from qiskit.providers.aer import AerSimulator\n",
    "from qiskit.visualization import plot_histogram\n",
    "qrx = QuantumRegister(3,'x')\n",
    "qry = QuantumRegister(1,'y')\n",
    "cr = ClassicalRegister(3,'c')\n",
    "qc = QuantumCircuit(qrx,qry,cr)\n",
    "qc.h(qrx)\n",
    "qc.x(qry)\n",
    "qc.h(qry)\n",
    "qc.barrier()\n",
    "qc.barrier()\n",
    "qc.h(qrx)\n",
    "qc.h(qry)\n",
    "qc.measure(qrx,cr)\n",
    "sim=AerSimulator()\n",
    "job=execute(qc, backend=sim, shots=1000)\n",
    "result=job.result()\n",
    "counts=result.get_counts(qc)\n",
    "print(\"Counts:\",counts)\n",
    "qc.draw()\n",
    "plot_histogram(counts)"
   ]
  }
 ],
 "metadata": {
  "interpreter": {
   "hash": "90081c4ed825e89428743d7bac4686d122beecde045019784cae7cd384e56256"
  },
  "kernelspec": {
   "display_name": "Python 3.9.7 64-bit",
   "language": "python",
   "name": "python3"
  },
  "language_info": {
   "codemirror_mode": {
    "name": "ipython",
    "version": 3
   },
   "file_extension": ".py",
   "mimetype": "text/x-python",
   "name": "python",
   "nbconvert_exporter": "python",
   "pygments_lexer": "ipython3",
   "version": "3.9.7"
  },
  "orig_nbformat": 4
 },
 "nbformat": 4,
 "nbformat_minor": 2
}
