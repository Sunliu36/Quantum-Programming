{
 "cells": [
  {
   "cell_type": "code",
   "execution_count": 2,
   "metadata": {},
   "outputs": [
    {
     "name": "stdout",
     "output_type": "stream",
     "text": [
      "     ┌─┐      \n",
      "q_0: ┤M├──────\n",
      "     └╥┘┌─┐   \n",
      "q_1: ─╫─┤M├───\n",
      "      ║ └╥┘┌─┐\n",
      "q_2: ─╫──╫─┤M├\n",
      "      ║  ║ └╥┘\n",
      "c: 3/═╩══╩══╩═\n",
      "      0  1  2 \n",
      "Total counts for qubit states are: {'000': 1000}\n"
     ]
    }
   ],
   "source": [
    "from qiskit import QuantumCircuit, execute\n",
    "from qiskit.providers.aer import AerSimulator\n",
    "sim = AerSimulator()\n",
    "qc = QuantumCircuit(3, 3)\n",
    "qc.measure([0], [0])\n",
    "qc.measure([1], [1])\n",
    "qc.measure([2], [2])\n",
    "print(qc)\n",
    "job=execute(qc, backend=sim, shots=1000)\n",
    "result = job.result()\n",
    "counts = result.get_counts(qc)\n",
    "print(\"Total counts for qubit states are:\",counts)"
   ]
  }
 ],
 "metadata": {
  "interpreter": {
   "hash": "90081c4ed825e89428743d7bac4686d122beecde045019784cae7cd384e56256"
  },
  "kernelspec": {
   "display_name": "Python 3.9.7 64-bit",
   "language": "python",
   "name": "python3"
  },
  "language_info": {
   "codemirror_mode": {
    "name": "ipython",
    "version": 3
   },
   "file_extension": ".py",
   "mimetype": "text/x-python",
   "name": "python",
   "nbconvert_exporter": "python",
   "pygments_lexer": "ipython3",
   "version": "3.9.7"
  },
  "orig_nbformat": 4
 },
 "nbformat": 4,
 "nbformat_minor": 2
}
